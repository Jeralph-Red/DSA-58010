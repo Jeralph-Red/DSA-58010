{
  "nbformat": 4,
  "nbformat_minor": 0,
  "metadata": {
    "colab": {
      "provenance": [],
      "authorship_tag": "ABX9TyO2CzXe5j68SVOE2YPB81mc",
      "include_colab_link": true
    },
    "kernelspec": {
      "name": "python3",
      "display_name": "Python 3"
    },
    "language_info": {
      "name": "python"
    }
  },
  "cells": [
    {
      "cell_type": "markdown",
      "metadata": {
        "id": "view-in-github",
        "colab_type": "text"
      },
      "source": [
        "<a href=\"https://colab.research.google.com/github/Jeralph-Red/DSA-58010/blob/main/Prelim_Exam.ipynb\" target=\"_parent\"><img src=\"https://colab.research.google.com/assets/colab-badge.svg\" alt=\"Open In Colab\"/></a>"
      ]
    },
    {
      "cell_type": "code",
      "execution_count": 11,
      "metadata": {
        "colab": {
          "base_uri": "https://localhost:8080/"
        },
        "id": "boB5Xwu8hrEC",
        "outputId": "a0630359-2dc2-482b-9b94-dd0070c8b6f7"
      },
      "outputs": [
        {
          "output_type": "stream",
          "name": "stdout",
          "text": [
            "Numbers =  [1, 2, 3, 4, 5, 6, 7, 8, 9, 10]\n",
            "Even number: 2\n",
            "Even number: 4\n",
            "Even number: 6\n",
            "Even number: 8\n",
            "Even number: 10\n",
            "Even numbers in the list:  5\n"
          ]
        }
      ],
      "source": [
        "Nums = [1,2,3,4,5,6,7,8,9,10]\n",
        "print(\"Numbers = \", Nums)\n",
        "\n",
        "evenNums = 0\n",
        "\n",
        "for num in Nums:\n",
        "  if num % 2 == 0:\n",
        "        print(\"Even number:\", num)\n",
        "        evenNums += 1\n",
        "print(\"Even numbers in the list: \", evenNums)"
      ]
    }
  ]
}