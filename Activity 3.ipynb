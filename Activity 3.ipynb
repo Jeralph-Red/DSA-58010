{
  "nbformat": 4,
  "nbformat_minor": 0,
  "metadata": {
    "colab": {
      "provenance": [],
      "authorship_tag": "ABX9TyMn0SUV4Z3cHmb3bHGjI5WA",
      "include_colab_link": true
    },
    "kernelspec": {
      "name": "python3",
      "display_name": "Python 3"
    },
    "language_info": {
      "name": "python"
    }
  },
  "cells": [
    {
      "cell_type": "markdown",
      "metadata": {
        "id": "view-in-github",
        "colab_type": "text"
      },
      "source": [
        "<a href=\"https://colab.research.google.com/github/Jeralph-Red/DSA-58010/blob/main/Activity%203.ipynb\" target=\"_parent\"><img src=\"https://colab.research.google.com/assets/colab-badge.svg\" alt=\"Open In Colab\"/></a>"
      ]
    },
    {
      "cell_type": "code",
      "execution_count": 1,
      "metadata": {
        "colab": {
          "base_uri": "https://localhost:8080/"
        },
        "id": "ikuE0CxwH38f",
        "outputId": "bb4ea704-438a-4802-83b3-ace3c45bd95e"
      },
      "outputs": [
        {
          "output_type": "stream",
          "name": "stdout",
          "text": [
            "Pushed Element: 1\n",
            "Pushed Element: 2\n",
            "Pushed Element: 3\n",
            "Pushed Element: 4\n",
            "Pushed Element: 5\n",
            "The elements in the stack are: ['1', '2', '3', '4', '5']\n"
          ]
        }
      ],
      "source": [
        "# Stack implementation in python\n",
        "\n",
        "# Creating a stack\n",
        "def create_stack():\n",
        "  stack = []\n",
        "  return stack\n",
        "\n",
        "# Creating an empty stack\n",
        "def is_empty(stack):\n",
        "  return len(stack) == 0\n",
        "\n",
        "# Adding items into the stack\n",
        "def push(stack, item):\n",
        "  stack.append(item)\n",
        "  print(\"Pushed Element: \" + item)\n",
        "\n",
        "# Removing an element from the stack\n",
        "def pop(stack):\n",
        "  if (is_empty(stack)):\n",
        "    return \"The stack is empty\"\n",
        "  return stack.pop()\n",
        "\n",
        "stack = create_stack()\n",
        "push(stack, str(1))\n",
        "push(stack, str(2))\n",
        "push(stack, str(3))\n",
        "push(stack, str(4))\n",
        "push(stack, str(5))\n",
        "\n",
        "print(\"The elements in the stack are: \"+ str(stack))"
      ]
    },
    {
      "cell_type": "markdown",
      "source": [
        "Pop 3 elements from the top of the stack"
      ],
      "metadata": {
        "id": "BNO1KxQOH6jQ"
      }
    },
    {
      "cell_type": "code",
      "source": [
        "# Stack implementation in python\n",
        "\n",
        "# Creating a stack\n",
        "def create_stack():\n",
        "    stack = []\n",
        "    return stack\n",
        "\n",
        "# Creating an empty stack\n",
        "def is_empty(stack):\n",
        "    return len(stack) == 0\n",
        "\n",
        "# Adding items into the stack\n",
        "def push(stack, item):\n",
        "    stack.append(item)\n",
        "    print(\"Pushed Element: \" + item)\n",
        "\n",
        "# Removing an element from the stack\n",
        "def pop(stack):\n",
        "    if (is_empty(stack)):\n",
        "        return \"The stack is empty\"\n",
        "    return stack.pop()\n",
        "\n",
        "stack = create_stack()\n",
        "push(stack, str(1))\n",
        "push(stack, str(2))\n",
        "push(stack, str(3))\n",
        "push(stack, str(4))\n",
        "push(stack, str(5))\n",
        "\n",
        "print(\"The elements in the stack are: \"+ str(stack))\n",
        "\n",
        "print(\"\\nThe elements left are:\")\n",
        "print(stack.pop(2))    \n",
        "print(stack.pop(1))     \n",
        "print(stack.pop(0))     "
      ],
      "metadata": {
        "colab": {
          "base_uri": "https://localhost:8080/"
        },
        "id": "aK-uE4pLH8LZ",
        "outputId": "0526f0a0-141d-4cdb-b4bf-66de38547f5e"
      },
      "execution_count": 2,
      "outputs": [
        {
          "output_type": "stream",
          "name": "stdout",
          "text": [
            "Pushed Element: 1\n",
            "Pushed Element: 2\n",
            "Pushed Element: 3\n",
            "Pushed Element: 4\n",
            "Pushed Element: 5\n",
            "The elements in the stack are: ['1', '2', '3', '4', '5']\n",
            "\n",
            "The elements left are:\n",
            "3\n",
            "2\n",
            "1\n"
          ]
        }
      ]
    },
    {
      "cell_type": "markdown",
      "source": [
        "Determining the length of the stack"
      ],
      "metadata": {
        "id": "fMdy7OJvH-FO"
      }
    },
    {
      "cell_type": "code",
      "source": [
        "# Stack implementation in python\n",
        "\n",
        "# Creating a stack\n",
        "def create_stack():\n",
        "    stack = []\n",
        "    return stack\n",
        "\n",
        "# Creating an empty stack\n",
        "def is_empty(stack):\n",
        "    return len(stack) == 0\n",
        "\n",
        "# Adding items into the stack\n",
        "def push(stack, item):\n",
        "    stack.append(item)\n",
        "    print(\"Pushed Element: \" + item)\n",
        "\n",
        "# Removing an element from the stack\n",
        "def pop(stack):\n",
        "    if (is_empty(stack)):\n",
        "        return \"The stack is empty\"\n",
        "    return stack.pop()\n",
        "\n",
        "stack = create_stack()\n",
        "push(stack, str(1))\n",
        "push(stack, str(2))\n",
        "push(stack, str(3))\n",
        "push(stack, str(4))\n",
        "push(stack, str(5))\n",
        "\n",
        "print(\"The elements in the stack are: \"+ str(stack))\n",
        "\n",
        "print(\"\\nThe elements popped are:\")\n",
        "print(stack.pop(2))    \n",
        "print(stack.pop(1))     \n",
        "print(stack.pop(0))     \n",
        "\n",
        "print(\"\\nElement left in the stack:\",len(stack))"
      ],
      "metadata": {
        "colab": {
          "base_uri": "https://localhost:8080/"
        },
        "id": "dYapeoZ2H_UK",
        "outputId": "56f897a7-65df-4bb3-b8a1-46cb29c3a706"
      },
      "execution_count": 3,
      "outputs": [
        {
          "output_type": "stream",
          "name": "stdout",
          "text": [
            "Pushed Element: 1\n",
            "Pushed Element: 2\n",
            "Pushed Element: 3\n",
            "Pushed Element: 4\n",
            "Pushed Element: 5\n",
            "The elements in the stack are: ['1', '2', '3', '4', '5']\n",
            "\n",
            "The elements popped are:\n",
            "3\n",
            "2\n",
            "1\n",
            "\n",
            "Element left in the stack: 2\n"
          ]
        }
      ]
    }
  ]
}