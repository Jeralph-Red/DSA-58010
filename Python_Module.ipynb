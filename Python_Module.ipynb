{
  "nbformat": 4,
  "nbformat_minor": 0,
  "metadata": {
    "colab": {
      "provenance": [],
      "authorship_tag": "ABX9TyO9doTKJetODmK8NkFZnkwQ",
      "include_colab_link": true
    },
    "kernelspec": {
      "name": "python3",
      "display_name": "Python 3"
    },
    "language_info": {
      "name": "python"
    }
  },
  "cells": [
    {
      "cell_type": "markdown",
      "metadata": {
        "id": "view-in-github",
        "colab_type": "text"
      },
      "source": [
        "<a href=\"https://colab.research.google.com/github/Jeralph-Red/DSA-58010/blob/main/Python_Module.ipynb\" target=\"_parent\"><img src=\"https://colab.research.google.com/assets/colab-badge.svg\" alt=\"Open In Colab\"/></a>"
      ]
    },
    {
      "cell_type": "markdown",
      "source": [
        "**EXAMPLE 1**"
      ],
      "metadata": {
        "id": "7j3BIgmr6zOa"
      }
    },
    {
      "cell_type": "code",
      "execution_count": 3,
      "metadata": {
        "colab": {
          "base_uri": "https://localhost:8080/"
        },
        "id": "nSzix_7Jza-H",
        "outputId": "12cbe21f-20ea-4b56-f722-90803c1e78a8"
      },
      "outputs": [
        {
          "output_type": "stream",
          "name": "stdout",
          "text": [
            "i\n",
            "f\n"
          ]
        }
      ],
      "source": [
        "import array\n",
        "\n",
        "array.typecodes #to get all typecodes\n",
        "\n",
        "A = array.array('i', [1, 2, 3, 4, 5, 6]) #initializing array \"A\"\n",
        "B = array.array('f', [1.5, 2.5, 3.5, 4.5, 5.5, 6.5]) #initializing array \"B\"\n",
        "\n",
        "print (a.typecode) #getting the typecode of \"A\"\n",
        "print (b.typecode) #getting the typecode of \"B\""
      ]
    },
    {
      "cell_type": "markdown",
      "source": [
        "**EXAMPLE 2** - Create/convert the elements of array to float/decimal number"
      ],
      "metadata": {
        "id": "OrYiZMgi8JRH"
      }
    },
    {
      "cell_type": "code",
      "source": [
        "A = array.array('f',[1, 2, 3, 4, 5, 6]) #initializing elements of array \"A\"\n",
        "print(a)"
      ],
      "metadata": {
        "colab": {
          "base_uri": "https://localhost:8080/"
        },
        "id": "2gboN8Xz8I_g",
        "outputId": "4ef1f700-3934-43c3-ebfe-bdb2f9470af6"
      },
      "execution_count": 7,
      "outputs": [
        {
          "output_type": "stream",
          "name": "stdout",
          "text": [
            "array('f', [1.0, 2.0, 3.0, 4.0, 5.0, 6.0])\n"
          ]
        }
      ]
    },
    {
      "cell_type": "markdown",
      "source": [
        "**EXAMPLE 3** - Insert an element"
      ],
      "metadata": {
        "id": "HJ63Xxk6-8-J"
      }
    },
    {
      "cell_type": "code",
      "source": [
        "import array                        #import array from array module\n",
        "a = array.array('i', [4, 5, 6, 7])  #initialiazing array a\n",
        "b = array.array('f', [ 1, 2, 3])\n",
        "\n",
        "a.insert(1, 2)                      #insert element: 2 to index 1\n",
        "print(a)\n",
        "a.insert(-1, 0)                     #insert element: 0 to index -1\n",
        "print (a)\n",
        "a.insert(6, 8)                      #insert element: -1 to index 10\n",
        "print(a)                            #append the last element of the array\n",
        "\n",
        "print(b)\n",
        "b[0] = 5\n",
        "print(b)\n",
        "b[-1] = 9\n",
        "print(b)"
      ],
      "metadata": {
        "colab": {
          "base_uri": "https://localhost:8080/"
        },
        "id": "bQh5XbgQ_Azf",
        "outputId": "71e17f83-4bda-4993-b85b-ece8a1cb5741"
      },
      "execution_count": 21,
      "outputs": [
        {
          "output_type": "stream",
          "name": "stdout",
          "text": [
            "array('i', [4, 2, 5, 6, 7])\n",
            "array('i', [4, 2, 5, 6, 0, 7])\n",
            "array('i', [4, 2, 5, 6, 0, 7, 8])\n",
            "array('f', [1.0, 2.0, 3.0])\n",
            "array('f', [5.0, 2.0, 3.0])\n",
            "array('f', [5.0, 2.0, 9.0])\n"
          ]
        }
      ]
    },
    {
      "cell_type": "markdown",
      "source": [
        "**LINKED LISTS**"
      ],
      "metadata": {
        "id": "XP1WZe-gGqJV"
      }
    },
    {
      "cell_type": "code",
      "source": [
        "#Function that creates node object\n",
        "class Node:\n",
        "  def __init__(self,data):\n",
        "    self.data = data        #assign data\n",
        "    self.next = None        #initialize as null\n",
        "\n",
        "#Function that creates Linked-list object\n",
        "class LinkedList:\n",
        "  def __init__(self):\n",
        "    self.head = None        #initialize as null\n",
        "\n",
        "  def printList(self):\n",
        "    temp = self.head\n",
        "    while(temp!=None):\n",
        "      print(temp.data)\n",
        "      temp = temp.next\n",
        "\n",
        "list = LinkedList()         #empty list\n",
        "list.head = Node(1)\n",
        "second = Node(2)\n",
        "third = Node(3)\n",
        "fourth = Node(4)\n",
        "\n",
        "list.head.next = second\n",
        "second.next = third\n",
        "third.next = fourth\n",
        "\n",
        "list.printList()"
      ],
      "metadata": {
        "colab": {
          "base_uri": "https://localhost:8080/"
        },
        "id": "tpOfGRCjB8EB",
        "outputId": "f5c077bc-5b1a-4c47-e65a-6210880c83df"
      },
      "execution_count": 32,
      "outputs": [
        {
          "output_type": "stream",
          "name": "stdout",
          "text": [
            "1\n",
            "2\n",
            "3\n",
            "4\n"
          ]
        }
      ]
    }
  ]
}