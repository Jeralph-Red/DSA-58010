{
  "nbformat": 4,
  "nbformat_minor": 0,
  "metadata": {
    "colab": {
      "name": "Computing Area.ipynb",
      "provenance": [],
      "authorship_tag": "ABX9TyNjxdw4Rtn6ZX5cfYg8ErNW",
      "include_colab_link": true
    },
    "kernelspec": {
      "name": "python3",
      "display_name": "Python 3"
    },
    "language_info": {
      "name": "python"
    }
  },
  "cells": [
    {
      "cell_type": "markdown",
      "metadata": {
        "id": "view-in-github",
        "colab_type": "text"
      },
      "source": [
        "<a href=\"https://colab.research.google.com/github/Jeralph-Red/DSA-58010/blob/main/Computing_Area.ipynb\" target=\"_parent\"><img src=\"https://colab.research.google.com/assets/colab-badge.svg\" alt=\"Open In Colab\"/></a>"
      ]
    },
    {
      "cell_type": "markdown",
      "source": [
        "**Create a Python Program that Computes the Area of a Circle**"
      ],
      "metadata": {
        "id": "GjT0FXzoZt3O"
      }
    },
    {
      "cell_type": "code",
      "execution_count": 11,
      "metadata": {
        "colab": {
          "base_uri": "https://localhost:8080/"
        },
        "id": "vRtItkNsTfAf",
        "outputId": "96e120f7-9784-45c1-eedc-acedc159b791"
      },
      "outputs": [
        {
          "output_type": "stream",
          "name": "stdout",
          "text": [
            "Enter the radius of a circle: 6\n",
            "The area of a circle is:  113.04\n"
          ]
        }
      ],
      "source": [
        "# Python Program to find Area Of Circle using Radius\n",
        "\n",
        "class Circle():\n",
        "  def __init__(self,radius,pi):\n",
        "    self.radius = int(input(\"Enter the radius of a circle: \"))\n",
        "    self.pi = pi\n",
        "\n",
        "  def Area(self):\n",
        "    return 3.14*(self.radius*self.radius)\n",
        "  \n",
        "  def display(self):\n",
        "    print(\"The area of a circle is: \", self.Area())\n",
        "\n",
        "circle = Circle(input,3.14)\n",
        "circle.display()"
      ]
    },
    {
      "cell_type": "code",
      "source": [
        "# Python Program to find Area Of Circle using diameter\n",
        "\n",
        "class Circle():\n",
        "  def __init__(self,diameter,pi):\n",
        "    self.diameter = int(input(\"Enter the diameter of a circle: \"))\n",
        "    self.pi = pi\n",
        "\n",
        "  def Area(self):\n",
        "    return ((3.14*(self.diameter*self.diameter))/4)\n",
        "  \n",
        "  def display(self):\n",
        "    print(\"The area of a circle is: \", self.Area())\n",
        "\n",
        "circle = Circle(input,3.14)\n",
        "circle.display()"
      ],
      "metadata": {
        "colab": {
          "base_uri": "https://localhost:8080/"
        },
        "id": "dZ3Y06WSZ1np",
        "outputId": "7cdb3ad9-fbde-473b-c35d-e3918c55e7a5"
      },
      "execution_count": 13,
      "outputs": [
        {
          "output_type": "stream",
          "name": "stdout",
          "text": [
            "Enter the diameter of a circle: 3\n",
            "The area of a circle is:  7.065\n"
          ]
        }
      ]
    }
  ]
}