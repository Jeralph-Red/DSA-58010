{
  "nbformat": 4,
  "nbformat_minor": 0,
  "metadata": {
    "colab": {
      "provenance": [],
      "authorship_tag": "ABX9TyO2ganVazVY2VBZAtAak5pp",
      "include_colab_link": true
    },
    "kernelspec": {
      "name": "python3",
      "display_name": "Python 3"
    },
    "language_info": {
      "name": "python"
    }
  },
  "cells": [
    {
      "cell_type": "markdown",
      "metadata": {
        "id": "view-in-github",
        "colab_type": "text"
      },
      "source": [
        "<a href=\"https://colab.research.google.com/github/Jeralph-Red/DSA-58010/blob/main/Long_Quiz_1.ipynb\" target=\"_parent\"><img src=\"https://colab.research.google.com/assets/colab-badge.svg\" alt=\"Open In Colab\"/></a>"
      ]
    },
    {
      "cell_type": "code",
      "source": [
        "MyName = []\n",
        "MyName.append('J')\n",
        "MyName.append('E')\n",
        "MyName.append('R')\n",
        "MyName.append('A')\n",
        "MyName.append('L')\n",
        "MyName.append('P')\n",
        "MyName.append('H')\n",
        "MyName.append('O')\n",
        "MyName.append('L')\n",
        "MyName.append('E')\n",
        "MyName.append('A')\n",
        "MyName.append('R')\n",
        "MyName.append('E')\n",
        "MyName.append('D')\n",
        "print(MyName)\n",
        "MyName.reverse()\n",
        "print(MyName)"
      ],
      "metadata": {
        "colab": {
          "base_uri": "https://localhost:8080/"
        },
        "id": "c09LlFWghTy1",
        "outputId": "0f7a6823-7226-4288-8127-840c35fa36e9"
      },
      "execution_count": 22,
      "outputs": [
        {
          "output_type": "stream",
          "name": "stdout",
          "text": [
            "['J', 'E', 'R', 'A', 'L', 'P', 'H', 'O', 'L', 'E', 'A', 'R', 'E', 'D']\n",
            "['D', 'E', 'R', 'A', 'E', 'L', 'O', 'H', 'P', 'L', 'A', 'R', 'E', 'J']\n"
          ]
        }
      ]
    }
  ]
}