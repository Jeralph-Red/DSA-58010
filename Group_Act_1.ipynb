{
  "nbformat": 4,
  "nbformat_minor": 0,
  "metadata": {
    "colab": {
      "provenance": [],
      "authorship_tag": "ABX9TyNcxBA5aZEFVwrNEqCsvgxq",
      "include_colab_link": true
    },
    "kernelspec": {
      "name": "python3",
      "display_name": "Python 3"
    },
    "language_info": {
      "name": "python"
    }
  },
  "cells": [
    {
      "cell_type": "markdown",
      "metadata": {
        "id": "view-in-github",
        "colab_type": "text"
      },
      "source": [
        "<a href=\"https://colab.research.google.com/github/Jeralph-Red/DSA-58010/blob/main/Group_Act_1.ipynb\" target=\"_parent\"><img src=\"https://colab.research.google.com/assets/colab-badge.svg\" alt=\"Open In Colab\"/></a>"
      ]
    },
    {
      "cell_type": "code",
      "execution_count": 13,
      "metadata": {
        "id": "7zKjySUj_UoH",
        "colab": {
          "base_uri": "https://localhost:8080/"
        },
        "outputId": "de613dc5-0b75-4368-fefa-95fb699507ce"
      },
      "outputs": [
        {
          "output_type": "stream",
          "name": "stdout",
          "text": [
            "Name of Polygon:  Pentagon\n",
            "Number of Sides:  5\n",
            "Input the Length of a side: 14.6\n",
            "Input the Apothem: 10\n",
            "Area of a Regular Pentagon is:  365.0\n"
          ]
        }
      ],
      "source": [
        "class Polygon:\n",
        "  def __init__(self, name, sides):\n",
        "      self.name = name\n",
        "      self.sides = sides\n",
        "\n",
        "  def getName(self):\n",
        "      return self.name\n",
        "\n",
        "  def getSides(self):\n",
        "      return self.sides\n",
        "  \n",
        "  def setName(self, name):\n",
        "      self.name = name\n",
        "\n",
        "  def setsides(self, sides):\n",
        "      self.sides = sides\n",
        "\n",
        "def main():\n",
        "    polygon = Polygon(\"Pentagon\", 5)\n",
        "    print(\"Name of Polygon: \", polygon.getName())\n",
        "    polygon.setsides(5)\n",
        "    print(\"Number of Sides: \", polygon.getSides())\n",
        "\n",
        "main()\n",
        "\n",
        "s = float(input(\"Input the Length of a side: \"))\n",
        "a = float(input(\"Input the Apothem: \"))\n",
        "\n",
        "area = 5/2*s*a\n",
        "\n",
        "print(\"Area of a Regular Pentagon is: \", area)\n"
      ]
    }
  ]
}