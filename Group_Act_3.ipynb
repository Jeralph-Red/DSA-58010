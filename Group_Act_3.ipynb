{
  "nbformat": 4,
  "nbformat_minor": 0,
  "metadata": {
    "colab": {
      "provenance": [],
      "authorship_tag": "ABX9TyN5PsqKWvI0W0xwJLs1QCsx",
      "include_colab_link": true
    },
    "kernelspec": {
      "name": "python3",
      "display_name": "Python 3"
    },
    "language_info": {
      "name": "python"
    }
  },
  "cells": [
    {
      "cell_type": "markdown",
      "metadata": {
        "id": "view-in-github",
        "colab_type": "text"
      },
      "source": [
        "<a href=\"https://colab.research.google.com/github/Jeralph-Red/DSA-58010/blob/main/Group_Act_3.ipynb\" target=\"_parent\"><img src=\"https://colab.research.google.com/assets/colab-badge.svg\" alt=\"Open In Colab\"/></a>"
      ]
    },
    {
      "cell_type": "markdown",
      "source": [
        "Write a program that can perform the Caesar cipher for English messages that include both upper- and lowercase characters.\n"
      ],
      "metadata": {
        "id": "RUtEOXzmF37y"
      }
    },
    {
      "cell_type": "code",
      "source": [
        "def encrypt(string, shift):\n",
        " \n",
        "  cipher = ''\n",
        "  for char in string:\n",
        "    if char == ' ':\n",
        "      cipher = cipher + char\n",
        "    elif  char.isupper():\n",
        "      cipher = cipher + chr((ord(char) + shift - 65) % 26 + 65)\n",
        "    else:\n",
        "      cipher = cipher + chr((ord(char) + shift - 97) % 26 + 97)\n",
        "  \n",
        "  return cipher\n",
        " \n",
        "text = input(\"Enter Message: \")\n",
        "s = int(input(\"Enter Shift Number: \"))\n",
        "print(\"Original Message: \", text)\n",
        "print(\"Caesar Cipher: \", encrypt(text, s))"
      ],
      "metadata": {
        "colab": {
          "base_uri": "https://localhost:8080/"
        },
        "id": "yziiliNTIC5t",
        "outputId": "6e29534d-1af0-4565-e7dd-d637b5cc1589"
      },
      "execution_count": 6,
      "outputs": [
        {
          "output_type": "stream",
          "name": "stdout",
          "text": [
            "Enter Message: Hello World\n",
            "Enter Shift Number: 3\n",
            "Original Message:  Hello World\n",
            "Caesar Cipher:  Khoor Zruog\n"
          ]
        }
      ]
    }
  ]
}