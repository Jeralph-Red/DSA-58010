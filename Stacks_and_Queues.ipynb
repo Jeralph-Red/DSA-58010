{
  "nbformat": 4,
  "nbformat_minor": 0,
  "metadata": {
    "colab": {
      "provenance": [],
      "authorship_tag": "ABX9TyOEnLgYAfGQYZo69DSWfc0s",
      "include_colab_link": true
    },
    "kernelspec": {
      "name": "python3",
      "display_name": "Python 3"
    },
    "language_info": {
      "name": "python"
    }
  },
  "cells": [
    {
      "cell_type": "markdown",
      "metadata": {
        "id": "view-in-github",
        "colab_type": "text"
      },
      "source": [
        "<a href=\"https://colab.research.google.com/github/Jeralph-Red/DSA-58010/blob/main/Stacks_and_Queues.ipynb\" target=\"_parent\"><img src=\"https://colab.research.google.com/assets/colab-badge.svg\" alt=\"Open In Colab\"/></a>"
      ]
    },
    {
      "cell_type": "code",
      "execution_count": null,
      "metadata": {
        "colab": {
          "base_uri": "https://localhost:8080/"
        },
        "id": "gYr3anNacnbF",
        "outputId": "ea57ee7f-034b-40fb-f3e4-a733fdfab675"
      },
      "outputs": [
        {
          "output_type": "stream",
          "name": "stdout",
          "text": [
            "Thu\n",
            "Wed\n"
          ]
        }
      ],
      "source": [
        "class Stack:\n",
        "  def __init__(self):\n",
        "    self.stack = []\n",
        " \n",
        "#Use list append method to add element \n",
        "  def add(self, dataval):\n",
        "    if dataval not in self.stack:\n",
        "      self.stack.append(dataval)\n",
        "      return True\n",
        "    else:\n",
        "      return False\n",
        "\n",
        "#Use list pop method to remove element\n",
        "  def remove(self):\n",
        "    if len(self.stack) <= 0:\n",
        "      return (\"No element in the Stack\")\n",
        "    else:\n",
        "      return self.stack.pop()\n",
        "\n",
        "AStack = Stack()\n",
        "AStack.add(\"Mon\")\n",
        "AStack.add(\"Tue\")\n",
        "AStack.add(\"Wed\")\n",
        "AStack.add(\"Thu\")\n",
        "print(AStack.remove())      \n",
        "print(AStack.remove())"
      ]
    },
    {
      "cell_type": "code",
      "source": [
        "class Stack:\n",
        "  def __init__(self):\n",
        "    self.stack = []\n",
        " \n",
        "#Use list append method to add element \n",
        "  def add(self, dataval):\n",
        "    if dataval not in self.stack:\n",
        "      self.stack.append(dataval)\n",
        "      return True\n",
        "    else:\n",
        "      return False\n",
        "\n",
        "#Use list pop method to remove element\n",
        "  def remove(self):\n",
        "    if len(self.stack) <= 0:\n",
        "      return (\"No element in the Stack\")\n",
        "    else:\n",
        "      return self.stack.pop()\n",
        "\n",
        "AStack = []\n",
        "#to Append/push all the elements in the stack\n",
        "AStack.append(\"Mon\")\n",
        "AStack.append(\"Tue\")\n",
        "AStack.append(\"Wed\")\n",
        "AStack.append(\"Thu\")\n",
        "print(\"The list of elements in the stack are: \")\n",
        "print(AStack)\n",
        "#to remove each element/pop()\n",
        "AStack.pop()\n",
        "print(\"\\nAfter popping Thursday., the new elements in the stack are: \")\n",
        "print(AStack)"
      ],
      "metadata": {
        "colab": {
          "base_uri": "https://localhost:8080/"
        },
        "id": "I8CN89iLc2W1",
        "outputId": "0aaa7d3f-ebb3-470e-9c7d-2f1a2cc65705"
      },
      "execution_count": null,
      "outputs": [
        {
          "output_type": "stream",
          "name": "stdout",
          "text": [
            "The list of elements in the stack are: \n",
            "['Mon', 'Tue', 'Wed', 'Thu']\n",
            "\n",
            "After popping Thursday., the new elements in the stack are: \n",
            "['Mon', 'Tue', 'Wed']\n"
          ]
        }
      ]
    },
    {
      "cell_type": "markdown",
      "source": [
        "REVISE THIS CODE"
      ],
      "metadata": {
        "id": "qS0MdwdodDO4"
      }
    },
    {
      "cell_type": "code",
      "source": [
        "#Python program to demo stack using Linked List\n",
        "\n",
        "class Stack:\n",
        "  def __init__(self):\n",
        "    self.stack = []\n",
        "\n",
        "class Node:\n",
        "  def __init__(self,data):\n",
        "    self.data = data\n",
        "    self.next = None   #initialize as null\n",
        "\n",
        "class LinkedList:\n",
        "  def __init__(self):\n",
        "    self.head = None  #initialize head as null\n",
        "  def printList(self):\n",
        "    temp = self.head\n",
        "    while(temp):\n",
        "      print(temp.data)\n",
        "      temp = temp.next\n",
        "  def is_empty(self):\n",
        "    if self.head == None:\n",
        "      return True\n",
        "    else:\n",
        "      return False\n",
        "  def pop(self):\n",
        "    if self.is_empty():\n",
        "      return None\n",
        "    else:\n",
        "      poppednode = fourth\n",
        "      return poppednode.data\n",
        "\n",
        "llist = LinkedList()\n",
        "llist.head = Node('First')\n",
        "second = Node(\"Second\")\n",
        "third = Node('Third')\n",
        "fourth = Node(\"Fourth\")\n",
        "\n",
        "llist.head.next = second\n",
        "second.next = third\n",
        "third.next = fourth\n",
        "\n",
        "llist.printList()\n",
        "llist.pop()"
      ],
      "metadata": {
        "colab": {
          "base_uri": "https://localhost:8080/",
          "height": 109
        },
        "id": "o9nvk_5Nc-7F",
        "outputId": "0806c500-cffd-4246-e4a0-5e46cb91bd8e"
      },
      "execution_count": null,
      "outputs": [
        {
          "output_type": "stream",
          "name": "stdout",
          "text": [
            "First\n",
            "Second\n",
            "Third\n",
            "Fourth\n"
          ]
        },
        {
          "output_type": "execute_result",
          "data": {
            "text/plain": [
              "'Fourth'"
            ],
            "application/vnd.google.colaboratory.intrinsic+json": {
              "type": "string"
            }
          },
          "metadata": {},
          "execution_count": 2
        }
      ]
    },
    {
      "cell_type": "code",
      "source": [
        "# node structure\n",
        "class Node:\n",
        "  def __init__(self, data):\n",
        "    self.data = data\n",
        "    self.next = None\n",
        "\n",
        "#class LinkedList\n",
        "class LinkedList:\n",
        "  def __init__(self):\n",
        "    self.head = None\n",
        "\n",
        "  #Add new element at the end of the list\n",
        "  def push_back(self, newElement):\n",
        "    newNode = Node(newElement)\n",
        "    if(self.head == None):\n",
        "      self.head = newNode\n",
        "      return\n",
        "    else:\n",
        "      temp = self.head\n",
        "      while(temp.next != None):\n",
        "        temp = temp.next\n",
        "      temp.next = newNode\n",
        "\n",
        "  #Delete last node of the list\n",
        "  def pop_back(self):\n",
        "    if(self.head != None):\n",
        "      if(self.head.next == None):\n",
        "        self.head = None\n",
        "      else:\n",
        "        temp = self.head\n",
        "        while(temp.next.next != None):\n",
        "          temp = temp.next\n",
        "        lastNode = temp.next\n",
        "        temp.next = None\n",
        "        lastNode = None\n",
        "\n",
        "  #display the content of the list\n",
        "  def printList(self):  #for print/display\n",
        "    temp = self.head\n",
        "    while(temp):\n",
        "      print(temp.data)\n",
        "      temp = temp.next\n",
        "\n",
        "# test the code                  \n",
        "MyList = LinkedList()\n",
        "\n",
        "#Add four elements in the list.\n",
        "MyList.push_back(\"First\")\n",
        "MyList.push_back(\"Second\")\n",
        "MyList.push_back(\"Third\")\n",
        "MyList.push_back(\"Fourth\")\n",
        "\n",
        "#Delete the last node\n",
        "MyList.pop_back()\n",
        "MyList.printList()"
      ],
      "metadata": {
        "colab": {
          "base_uri": "https://localhost:8080/"
        },
        "id": "hVs9k6GiZhdY",
        "outputId": "6dd57ea7-8b2a-43a7-a0a8-d20f9a2cecf9"
      },
      "execution_count": 2,
      "outputs": [
        {
          "output_type": "stream",
          "name": "stdout",
          "text": [
            "First\n",
            "Second\n",
            "Third\n"
          ]
        }
      ]
    }
  ]
}