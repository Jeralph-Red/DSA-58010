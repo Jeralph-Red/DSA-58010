{
  "nbformat": 4,
  "nbformat_minor": 0,
  "metadata": {
    "colab": {
      "provenance": [],
      "authorship_tag": "ABX9TyOVtYLCHmdU50QcVyIWMtMf",
      "include_colab_link": true
    },
    "kernelspec": {
      "name": "python3",
      "display_name": "Python 3"
    },
    "language_info": {
      "name": "python"
    }
  },
  "cells": [
    {
      "cell_type": "markdown",
      "metadata": {
        "id": "view-in-github",
        "colab_type": "text"
      },
      "source": [
        "<a href=\"https://colab.research.google.com/github/Jeralph-Red/DSA-58010/blob/main/Stacks_and_Queues.ipynb\" target=\"_parent\"><img src=\"https://colab.research.google.com/assets/colab-badge.svg\" alt=\"Open In Colab\"/></a>"
      ]
    },
    {
      "cell_type": "code",
      "execution_count": 1,
      "metadata": {
        "colab": {
          "base_uri": "https://localhost:8080/"
        },
        "id": "gYr3anNacnbF",
        "outputId": "ea57ee7f-034b-40fb-f3e4-a733fdfab675"
      },
      "outputs": [
        {
          "output_type": "stream",
          "name": "stdout",
          "text": [
            "Thu\n",
            "Wed\n"
          ]
        }
      ],
      "source": [
        "class Stack:\n",
        "  def __init__(self):\n",
        "    self.stack = []\n",
        " \n",
        "#Use list append method to add element \n",
        "  def add(self, dataval):\n",
        "    if dataval not in self.stack:\n",
        "      self.stack.append(dataval)\n",
        "      return True\n",
        "    else:\n",
        "      return False\n",
        "\n",
        "#Use list pop method to remove element\n",
        "  def remove(self):\n",
        "    if len(self.stack) <= 0:\n",
        "      return (\"No element in the Stack\")\n",
        "    else:\n",
        "      return self.stack.pop()\n",
        "\n",
        "AStack = Stack()\n",
        "AStack.add(\"Mon\")\n",
        "AStack.add(\"Tue\")\n",
        "AStack.add(\"Wed\")\n",
        "AStack.add(\"Thu\")\n",
        "print(AStack.remove())      \n",
        "print(AStack.remove())"
      ]
    },
    {
      "cell_type": "code",
      "source": [
        "class Stack:\n",
        "  def __init__(self):\n",
        "    self.stack = []\n",
        " \n",
        "#Use list append method to add element \n",
        "  def add(self, dataval):\n",
        "    if dataval not in self.stack:\n",
        "      self.stack.append(dataval)\n",
        "      return True\n",
        "    else:\n",
        "      return False\n",
        "\n",
        "#Use list pop method to remove element\n",
        "  def remove(self):\n",
        "    if len(self.stack) <= 0:\n",
        "      return (\"No element in the Stack\")\n",
        "    else:\n",
        "      return self.stack.pop()\n",
        "\n",
        "AStack = []\n",
        "#to Append/push all the elements in the stack\n",
        "AStack.append(\"Mon\")\n",
        "AStack.append(\"Tue\")\n",
        "AStack.append(\"Wed\")\n",
        "AStack.append(\"Thu\")\n",
        "print(\"The list of elements in the stack are: \")\n",
        "print(AStack)\n",
        "#to remove each element/pop()\n",
        "AStack.pop()\n",
        "print(\"\\nAfter popping Thursday., the new elements in the stack are: \")\n",
        "print(AStack)"
      ],
      "metadata": {
        "colab": {
          "base_uri": "https://localhost:8080/"
        },
        "id": "I8CN89iLc2W1",
        "outputId": "0aaa7d3f-ebb3-470e-9c7d-2f1a2cc65705"
      },
      "execution_count": 2,
      "outputs": [
        {
          "output_type": "stream",
          "name": "stdout",
          "text": [
            "The list of elements in the stack are: \n",
            "['Mon', 'Tue', 'Wed', 'Thu']\n",
            "\n",
            "After popping Thursday., the new elements in the stack are: \n",
            "['Mon', 'Tue', 'Wed']\n"
          ]
        }
      ]
    },
    {
      "cell_type": "markdown",
      "source": [
        "REVISE THIS CODE"
      ],
      "metadata": {
        "id": "qS0MdwdodDO4"
      }
    },
    {
      "cell_type": "code",
      "source": [
        "#Python program to demo stack using Linked List\n",
        "\n",
        "class Stack:\n",
        "  def __init__(self):\n",
        "    self.stack = []\n",
        "\n",
        "class Node:\n",
        "  def __init__(self,data):\n",
        "    self.data = data\n",
        "    self.next = None   #initialize as null\n",
        "\n",
        "class LinkedList:\n",
        "  def __init__(self):\n",
        "    self.head = None  #initialize head as null\n",
        "  def printList(self):\n",
        "    temp = self.head\n",
        "    while(temp):\n",
        "      print(temp.data)\n",
        "      temp = temp.next\n",
        "  def is_empty(self):\n",
        "    if self.head == None:\n",
        "      return True\n",
        "    else:\n",
        "      return False\n",
        "  def pop(self):\n",
        "    if self.is_empty():\n",
        "      return None\n",
        "    else:\n",
        "      poppednode = fourth\n",
        "      return poppednode.data\n",
        "\n",
        "llist = LinkedList()\n",
        "llist.head = Node('Mon')\n",
        "second = Node(\"Tue\")\n",
        "third = Node('Wed')\n",
        "fourth = Node(\"Thu\")\n",
        "\n",
        "llist.head.next = second\n",
        "second.next = third\n",
        "third.next = fourth\n",
        "\n",
        "llist.printList()\n",
        "llist.pop()"
      ],
      "metadata": {
        "colab": {
          "base_uri": "https://localhost:8080/",
          "height": 109
        },
        "id": "o9nvk_5Nc-7F",
        "outputId": "9fa964cf-9310-44f0-fc9c-5afc0099bb33"
      },
      "execution_count": 3,
      "outputs": [
        {
          "output_type": "stream",
          "name": "stdout",
          "text": [
            "Mon\n",
            "Tue\n",
            "Wed\n",
            "Thu\n"
          ]
        },
        {
          "output_type": "execute_result",
          "data": {
            "text/plain": [
              "'Thu'"
            ],
            "application/vnd.google.colaboratory.intrinsic+json": {
              "type": "string"
            }
          },
          "metadata": {},
          "execution_count": 3
        }
      ]
    }
  ]
}