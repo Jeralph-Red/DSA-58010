{
  "nbformat": 4,
  "nbformat_minor": 0,
  "metadata": {
    "colab": {
      "provenance": [],
      "authorship_tag": "ABX9TyOumGcI5Na5atpUv29nShKO",
      "include_colab_link": true
    },
    "kernelspec": {
      "name": "python3",
      "display_name": "Python 3"
    },
    "language_info": {
      "name": "python"
    }
  },
  "cells": [
    {
      "cell_type": "markdown",
      "metadata": {
        "id": "view-in-github",
        "colab_type": "text"
      },
      "source": [
        "<a href=\"https://colab.research.google.com/github/Jeralph-Red/DSA-58010/blob/main/Graphs.ipynb\" target=\"_parent\"><img src=\"https://colab.research.google.com/assets/colab-badge.svg\" alt=\"Open In Colab\"/></a>"
      ]
    },
    {
      "cell_type": "markdown",
      "source": [
        "Graph Implementation using Python Libraries "
      ],
      "metadata": {
        "id": "2F92IxhZdo6P"
      }
    },
    {
      "cell_type": "code",
      "execution_count": 3,
      "metadata": {
        "colab": {
          "base_uri": "https://localhost:8080/"
        },
        "id": "PSv0NGs-djDN",
        "outputId": "4037311d-d01b-4d71-e157-00e534ea4398"
      },
      "outputs": [
        {
          "output_type": "stream",
          "name": "stdout",
          "text": [
            "{'a': ['c'], 'b': ['c', 'e'], 'c': ['a', 'b', 'd', 'e'], 'd': ['c'], 'e': ['b', 'c'], 'f': []}\n"
          ]
        }
      ],
      "source": [
        "graph = {\n",
        "    'a': ['c'],\n",
        "    'b': ['c', 'e'],\n",
        "    'c': ['a', 'b', 'd', 'e'],\n",
        "    'd': ['c'],\n",
        "    'e': ['b', 'c'],\n",
        "    'f': []\n",
        "\n",
        "}\n",
        "print(graph)"
      ]
    }
  ]
}