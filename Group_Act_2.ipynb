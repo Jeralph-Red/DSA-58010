{
  "nbformat": 4,
  "nbformat_minor": 0,
  "metadata": {
    "colab": {
      "provenance": [],
      "authorship_tag": "ABX9TyMRlND/JrA3S+b4P0NOy9Qh",
      "include_colab_link": true
    },
    "kernelspec": {
      "name": "python3",
      "display_name": "Python 3"
    },
    "language_info": {
      "name": "python"
    }
  },
  "cells": [
    {
      "cell_type": "markdown",
      "metadata": {
        "id": "view-in-github",
        "colab_type": "text"
      },
      "source": [
        "<a href=\"https://colab.research.google.com/github/Jeralph-Red/DSA-58010/blob/main/Group_Act_2.ipynb\" target=\"_parent\"><img src=\"https://colab.research.google.com/assets/colab-badge.svg\" alt=\"Open In Colab\"/></a>"
      ]
    },
    {
      "cell_type": "code",
      "execution_count": 2,
      "metadata": {
        "colab": {
          "base_uri": "https://localhost:8080/"
        },
        "id": "rkGj3JAJKu1Y",
        "outputId": "9c2004df-38c8-4f59-a8cf-ca40868273f8"
      },
      "outputs": [
        {
          "output_type": "stream",
          "name": "stdout",
          "text": [
            "Minimum Value: 1\n",
            "Maximum Value: 10\n"
          ]
        }
      ],
      "source": [
        "def recMin(data):\n",
        "        if len(data) == 0:\n",
        "                return None\n",
        "        if len(data) == 1:\n",
        "                return data[0]\n",
        "        return min(data[0], recMin(data[1:]))\n",
        "\n",
        "def recMax(data):\n",
        "        if len(data) == 0:\n",
        "                 return None\n",
        "        if len(data) == 1:\n",
        "                return data[0]\n",
        "        return max(data[0], recMax(data[1:]))\n",
        "\n",
        "print(\"Minimum Value:\", recMin([1, 2, 3, 4, 5, 6, 7, 8, 9, 10]))\n",
        "print(\"Maximum Value:\", recMax([1, 2, 3, 4, 5, 6, 7, 8, 9, 10]))\n"
      ]
    }
  ]
}