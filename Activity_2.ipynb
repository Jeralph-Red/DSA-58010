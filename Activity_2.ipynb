{
  "nbformat": 4,
  "nbformat_minor": 0,
  "metadata": {
    "colab": {
      "provenance": [],
      "authorship_tag": "ABX9TyMzsF6ul9OrzwEz2UusW+lH",
      "include_colab_link": true
    },
    "kernelspec": {
      "name": "python3",
      "display_name": "Python 3"
    },
    "language_info": {
      "name": "python"
    }
  },
  "cells": [
    {
      "cell_type": "markdown",
      "metadata": {
        "id": "view-in-github",
        "colab_type": "text"
      },
      "source": [
        "<a href=\"https://colab.research.google.com/github/Jeralph-Red/DSA-58010/blob/main/Activity_2.ipynb\" target=\"_parent\"><img src=\"https://colab.research.google.com/assets/colab-badge.svg\" alt=\"Open In Colab\"/></a>"
      ]
    },
    {
      "cell_type": "markdown",
      "source": [
        "1. Write a Python program to create a singly linked list of prime numbers less than 20. By iterating through the list, display all the prime numbers, the head, and the tail of the list. (using Google Colab)\n",
        "2. Save your source codes to GitHub\n",
        "3. Name it as Activity 2 and copy the link of your GitHub repository DSA 58010 here"
      ],
      "metadata": {
        "id": "_va-z-xRJkrf"
      }
    },
    {
      "cell_type": "code",
      "source": [
        "#Function that creates Node object\n",
        "class Node:                   #Initializing Node class\n",
        "  def __init__(self, data):\n",
        "    self.data = data\n",
        "    self.next = None\n",
        "\n",
        "class prime_list:             #Initializing the Prime Numbers List class\n",
        "    def __init__(self):\n",
        "        self.head = None\n",
        "        self.tail = None\n",
        "        self.count = 0\n",
        "    \n",
        "    def printList(self):\n",
        "      prime = self.head\n",
        "      while(prime):\n",
        "        print(prime.data)\n",
        "        prime = prime.next\n",
        "\n",
        "#Prime numbers under 20\n",
        "list = prime_list()\n",
        "list.head = Node(2)\n",
        "second = Node(3)\n",
        "third = Node(5)\n",
        "fourth = Node(7)\n",
        "fifth = Node(11)\n",
        "sixth = Node(13)\n",
        "seventh = Node(17)\n",
        "tail = Node(19)\n",
        "\n",
        "list.head.next = second\n",
        "second.next = third\n",
        "third.next = fourth\n",
        "fourth.next = fifth\n",
        "fifth.next = sixth\n",
        "sixth.next = seventh\n",
        "seventh.next = tail\n",
        "\n",
        "print(\"Prime numbers less than 20 are:\")\n",
        "list.printList()\n",
        "\n",
        "print(\"\\nThe head of list is: \",list.head.data)\n",
        "print(\"The tail of list is: \" ,seventh.next.data)"
      ],
      "metadata": {
        "colab": {
          "base_uri": "https://localhost:8080/"
        },
        "id": "vMa-qybJUHBJ",
        "outputId": "3697c693-5699-43a0-bc1b-6a2960074202"
      },
      "execution_count": 17,
      "outputs": [
        {
          "output_type": "stream",
          "name": "stdout",
          "text": [
            "Prime numbers less than 20 are:\n",
            "2\n",
            "3\n",
            "5\n",
            "7\n",
            "11\n",
            "13\n",
            "17\n",
            "19\n",
            "\n",
            "The head of list is:  2\n",
            "The tail of list is:  19\n"
          ]
        }
      ]
    }
  ]
}